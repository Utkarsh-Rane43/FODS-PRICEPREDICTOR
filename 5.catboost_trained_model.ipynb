{
 "cells": [
  {
   "cell_type": "markdown",
   "metadata": {
    "colab_type": "text",
    "id": "view-in-github"
   },
   "source": [
    "<a href=\"https://colab.research.google.com/github/Utkarsh-Rane43/FODS-PROJECT/blob/main/FODS_PART3_(catboost).ipynb\" target=\"_parent\"><img src=\"https://colab.research.google.com/assets/colab-badge.svg\" alt=\"Open In Colab\"/></a>"
   ]
  },
  {
   "cell_type": "code",
   "execution_count": 2,
   "metadata": {
    "colab": {
     "base_uri": "https://localhost:8080/"
    },
    "id": "-66p0fKAczdu",
    "outputId": "17600aee-c76c-4802-bec9-25d0903262bc"
   },
   "outputs": [
    {
     "ename": "ImportError",
     "evalue": "cannot import name 'CatBoostRegressor' from 'catboost' (unknown location)",
     "output_type": "error",
     "traceback": [
      "\u001b[1;31m---------------------------------------------------------------------------\u001b[0m",
      "\u001b[1;31mImportError\u001b[0m                               Traceback (most recent call last)",
      "Cell \u001b[1;32mIn[2], line 3\u001b[0m\n\u001b[0;32m      1\u001b[0m \u001b[38;5;28;01mimport\u001b[39;00m \u001b[38;5;21;01mpandas\u001b[39;00m \u001b[38;5;28;01mas\u001b[39;00m \u001b[38;5;21;01mpd\u001b[39;00m\n\u001b[0;32m      2\u001b[0m \u001b[38;5;28;01mimport\u001b[39;00m \u001b[38;5;21;01mnumpy\u001b[39;00m \u001b[38;5;28;01mas\u001b[39;00m \u001b[38;5;21;01mnp\u001b[39;00m\n\u001b[1;32m----> 3\u001b[0m \u001b[38;5;28;01mfrom\u001b[39;00m \u001b[38;5;21;01mcatboost\u001b[39;00m \u001b[38;5;28;01mimport\u001b[39;00m CatBoostRegressor\n\u001b[0;32m      4\u001b[0m \u001b[38;5;28;01mfrom\u001b[39;00m \u001b[38;5;21;01msklearn\u001b[39;00m\u001b[38;5;21;01m.\u001b[39;00m\u001b[38;5;21;01mmodel_selection\u001b[39;00m \u001b[38;5;28;01mimport\u001b[39;00m train_test_split\n\u001b[0;32m      5\u001b[0m \u001b[38;5;28;01mfrom\u001b[39;00m \u001b[38;5;21;01msklearn\u001b[39;00m\u001b[38;5;21;01m.\u001b[39;00m\u001b[38;5;21;01mmetrics\u001b[39;00m \u001b[38;5;28;01mimport\u001b[39;00m mean_squared_error, r2_score\n",
      "\u001b[1;31mImportError\u001b[0m: cannot import name 'CatBoostRegressor' from 'catboost' (unknown location)"
     ]
    }
   ],
   "source": [
    "import pandas as pd\n",
    "import numpy as np\n",
    "from catboost import CatBoostRegressor\n",
    "from sklearn.model_selection import train_test_split\n",
    "from sklearn.metrics import mean_squared_error, r2_score\n",
    "\n",
    "# Load the dataset\n",
    "df = pd.read_csv('/content/cardekho_dataset.csv')\n",
    "\n",
    "# Identify categorical and numerical columns\n",
    "categorical_features = ['brand', 'model', 'seller_type', 'fuel_type', 'transmission_type']\n",
    "numerical_features = ['vehicle_age', 'km_driven', 'mileage', 'engine', 'max_power', 'seats']\n",
    "\n",
    "# Ensure categorical columns are of type 'category'\n",
    "for cat_feature in categorical_features:\n",
    "    df[cat_feature] = df[cat_feature].astype('category')\n",
    "\n",
    "# Prepare features and target\n",
    "X = df.drop(['selling_price', 'car_name', 'Unnamed: 0'], axis=1)\n",
    "y = df['selling_price']\n",
    "\n",
    "# Split the data into training and testing sets\n",
    "X_train, X_test, y_train, y_test = train_test_split(X, y, test_size=0.2, random_state=42)\n",
    "\n",
    "# Initialize and train the CatBoost model with categorical features specified\n",
    "catboost_model = CatBoostRegressor(random_state=42, verbose=0)\n",
    "catboost_model.fit(X_train, y_train, cat_features=categorical_features)\n",
    "\n",
    "# Predict and evaluate the model\n",
    "y_pred = catboost_model.predict(X_test)\n",
    "\n",
    "# Calculate metrics\n",
    "mse = mean_squared_error(y_test, y_pred)\n",
    "rmse = np.sqrt(mse)\n",
    "r2 = r2_score(y_test, y_pred)\n",
    "\n",
    "# Print the evaluation metrics\n",
    "print(\"CatBoost Model Performance:\")\n",
    "print(\"MSE: \" + str(mse))\n",
    "print(\"RMSE: \" + str(rmse))\n",
    "print(\"R²: \" + str(r2))\n",
    "\n",
    "# Feature importance\n",
    "feature_importance = catboost_model.feature_importances_\n",
    "feature_names = X.columns\n",
    "\n",
    "# Sort feature importances in descending order\n",
    "indices = np.argsort(feature_importance)[::-1]\n",
    "\n",
    "print(\"\\nFeature Importance:\")\n",
    "for f in range(X.shape[1]):\n",
    "    print(\"%d. %s (%f)\" % (f + 1, feature_names[indices[f]], feature_importance[indices[f]]))\n",
    "\n",
    "catboost_model.save_model(\"catboost_model.cbm\")"
   ]
  },
  {
   "cell_type": "code",
   "execution_count": 35,
   "metadata": {
    "colab": {
     "base_uri": "https://localhost:8080/"
    },
    "id": "DRFF6wrQdDTj",
    "outputId": "e98183ec-4048-4af8-d485-63f6069e2b2d"
   },
   "outputs": [
    {
     "name": "stdout",
     "output_type": "stream",
     "text": [
      "Predicted Selling Price: 382111.63076074515\n"
     ]
    }
   ],
   "source": [
    "# Sample input data for prediction\n",
    "sample_data = pd.DataFrame({\n",
    "    'brand': ['Mahindra'],\n",
    "    'model': ['Bolero'],\n",
    "    'vehicle_age': [10],\n",
    "    'km_driven': [25000],\n",
    "    'seller_type': ['Individual'],\n",
    "    'fuel_type': ['Diesel'],\n",
    "    'transmission_type': ['Manual'],\n",
    "    'mileage': [13.6],\n",
    "    'engine': [2523],\n",
    "    'max_power': [63.0],\n",
    "    'seats': [7]\n",
    "})\n",
    "\n",
    "# Ensure categorical columns are of type 'category'\n",
    "for cat_feature in categorical_features:\n",
    "    sample_data[cat_feature] = sample_data[cat_feature].astype('category')\n",
    "\n",
    "# Predict the selling price using the trained model\n",
    "predicted_price = catboost_model.predict(sample_data)\n",
    "\n",
    "print(\"Predicted Selling Price: \" + str(predicted_price[0]))"
   ]
  }
 ],
 "metadata": {
  "colab": {
   "authorship_tag": "ABX9TyMcXai78AQV2iObDIySuajX",
   "include_colab_link": true,
   "provenance": []
  },
  "kernelspec": {
   "display_name": "Python 3",
   "name": "python3"
  },
  "language_info": {
   "codemirror_mode": {
    "name": "ipython",
    "version": 3
   },
   "file_extension": ".py",
   "mimetype": "text/x-python",
   "name": "python",
   "nbconvert_exporter": "python",
   "pygments_lexer": "ipython3",
   "version": "3.13.0"
  }
 },
 "nbformat": 4,
 "nbformat_minor": 0
}
